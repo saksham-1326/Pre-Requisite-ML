{
 "cells": [
  {
   "cell_type": "code",
   "execution_count": 1,
   "id": "fcb8d69d",
   "metadata": {},
   "outputs": [
    {
     "name": "stdout",
     "output_type": "stream",
     "text": [
      "Value of gradient at (1,2) is 8.322418212890625 and 11.097651481628418\n"
     ]
    }
   ],
   "source": [
    "import jax\n",
    "import jax.numpy as jnum\n",
    "def f(x,y):\n",
    "    return (x**2)*y + (y**3)*jnum.sin(x)\n",
    "grad_f=jax.grad(f,argnums=(0,1))\n",
    "result=grad_f(1.0,2.0)\n",
    "x=result[0].item()\n",
    "y=result[1].item()\n",
    "print(\"Value of gradient at (1,2) is {0} and {1}\".format(x,y))"
   ]
  }
 ],
 "metadata": {
  "kernelspec": {
   "display_name": "Python 3 (ipykernel)",
   "language": "python",
   "name": "python3"
  },
  "language_info": {
   "codemirror_mode": {
    "name": "ipython",
    "version": 3
   },
   "file_extension": ".py",
   "mimetype": "text/x-python",
   "name": "python",
   "nbconvert_exporter": "python",
   "pygments_lexer": "ipython3",
   "version": "3.9.12"
  }
 },
 "nbformat": 4,
 "nbformat_minor": 5
}
