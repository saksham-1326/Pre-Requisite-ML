{
 "cells": [
  {
   "cell_type": "code",
   "execution_count": 4,
   "id": "57d10c70",
   "metadata": {},
   "outputs": [
    {
     "name": "stdout",
     "output_type": "stream",
     "text": [
      "77\n"
     ]
    }
   ],
   "source": [
    "student={\n",
    "    2022:{\n",
    "        \"branch1\":{\n",
    "            \"Roll\": 1,\n",
    "            \"Name\": \"A\",\n",
    "            \"Marks\":{\n",
    "                \"Math\":100,\n",
    "                \"English\":70\n",
    "            }\n",
    "        },\n",
    "        \"branch2\":{\n",
    "            \"Roll\": 2,\n",
    "            \"Name\": \"B\",\n",
    "            \"Marks\":{\n",
    "                \"Math\":99,\n",
    "                \"English\":77\n",
    "            }\n",
    "        }\n",
    "    },\n",
    "    2023:{\n",
    "        \"branch1\":{\n",
    "            \"Roll\": 3,\n",
    "            \"Name\": \"C\",\n",
    "            \"Marks\":{\n",
    "                \"Math\":100,\n",
    "                \"English\":70\n",
    "            }\n",
    "        },\n",
    "        \"branch2\":{\n",
    "            \"Roll\": 4,\n",
    "            \"Name\": \"D\",\n",
    "            \"Marks\":{\n",
    "                \"Math\":99,\n",
    "                \"English\":77\n",
    "            }\n",
    "        }\n",
    "    },\n",
    "    2024:{\n",
    "        \"branch1\":{\n",
    "            \"Roll\": 5,\n",
    "            \"Name\": \"E\",\n",
    "            \"Marks\":{\n",
    "                \"Math\":100,\n",
    "                \"English\":70\n",
    "            }\n",
    "        },\n",
    "        \"branch2\":{\n",
    "            \"Roll\": 6,\n",
    "            \"Name\": \"F\",\n",
    "            \"Marks\":{\n",
    "                \"Math\":99,\n",
    "                \"English\":77\n",
    "            }\n",
    "        }\n",
    "    },\n",
    "    2025:{\n",
    "        \"branch1\":{\n",
    "            \"Roll\": 7,\n",
    "            \"Name\": \"G\",\n",
    "            \"Marks\":{\n",
    "                \"Math\":100,\n",
    "                \"English\":70\n",
    "            }\n",
    "        },\n",
    "        \"branch2\":{\n",
    "            \"Roll\": 8,\n",
    "            \"Name\": \"H\",\n",
    "            \"Marks\":{\n",
    "                \"Math\":99,\n",
    "                \"English\":77\n",
    "            }\n",
    "        }\n",
    "    }\n",
    "}\n",
    "print(student[2023][\"branch2\"][\"Marks\"][\"English\"])"
   ]
  }
 ],
 "metadata": {
  "kernelspec": {
   "display_name": "Python 3 (ipykernel)",
   "language": "python",
   "name": "python3"
  },
  "language_info": {
   "codemirror_mode": {
    "name": "ipython",
    "version": 3
   },
   "file_extension": ".py",
   "mimetype": "text/x-python",
   "name": "python",
   "nbconvert_exporter": "python",
   "pygments_lexer": "ipython3",
   "version": "3.9.12"
  }
 },
 "nbformat": 4,
 "nbformat_minor": 5
}
