{
 "cells": [
  {
   "cell_type": "markdown",
   "id": "646c605f",
   "metadata": {},
   "source": [
    "### Question 8-> To implement question 7 by use of python classes\n"
   ]
  },
  {
   "cell_type": "code",
   "execution_count": 5,
   "id": "c22abb31",
   "metadata": {},
   "outputs": [],
   "source": [
    "class Student:\n",
    "    def __init__(self,roll,name,marks):\n",
    "        self.roll=roll\n",
    "        self.name=name\n",
    "        self.marks=marks\n",
    "\n",
    "class Branch:\n",
    "    def __init__(self,name):\n",
    "        self.name=name\n",
    "        self.students=[]\n",
    "\n",
    "    def add_student(self,student):\n",
    "        self.students.append(student)\n",
    "\n",
    "class Year:\n",
    "    def __init__(self,year):\n",
    "        self.year=year\n",
    "        self.branches=[]\n",
    "    def add_branch(self, branch):\n",
    "        self.branches.append(branch)\n",
    "        \n",
    "class Database:\n",
    "    def __init__(self):\n",
    "        self.years = []\n",
    "\n",
    "    def add_year(self, year):\n",
    "        self.years.append(year)"
   ]
  }
 ],
 "metadata": {
  "kernelspec": {
   "display_name": "Python 3 (ipykernel)",
   "language": "python",
   "name": "python3"
  },
  "language_info": {
   "codemirror_mode": {
    "name": "ipython",
    "version": 3
   },
   "file_extension": ".py",
   "mimetype": "text/x-python",
   "name": "python",
   "nbconvert_exporter": "python",
   "pygments_lexer": "ipython3",
   "version": "3.9.12"
  }
 },
 "nbformat": 4,
 "nbformat_minor": 5
}
