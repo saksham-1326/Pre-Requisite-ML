{
 "cells": [
  {
   "cell_type": "markdown",
   "id": "fc610252",
   "metadata": {},
   "source": [
    "## Matrix Multiplication by simple method"
   ]
  },
  {
   "cell_type": "code",
   "execution_count": 18,
   "id": "b655c22b",
   "metadata": {},
   "outputs": [
    {
     "name": "stdout",
     "output_type": "stream",
     "text": [
      "Multiplied matrix is : \n",
      "[[38, 44, 50, 56], [83, 98, 113, 128]]\n",
      "Time taken is : 0.0021543503\n"
     ]
    }
   ],
   "source": [
    "import time as T\n",
    "A=[[1,2,3],[4,5,6]]\n",
    "B=[[1,2,3,4],[5,6,7,8],[9,10,11,12]]\n",
    "ANS=[[0 for _ in range(4)] for _ in range(2)]\n",
    "\n",
    "starting=t.time()\n",
    "\n",
    "for i in range(2):\n",
    "    for j in range(4):\n",
    "         for k in range(3):\n",
    "                ANS[i][j]+=A[i][k]*B[k][j]\n",
    "print(\"Multiplied matrix is : \")\n",
    "print(ANS)\n",
    "\n",
    "ending=t.time()\n",
    "taken=ending-starting\n",
    "print(\"Time taken is : {:.10f}\".format(taken))"
   ]
  },
  {
   "cell_type": "markdown",
   "id": "ee43c2b1",
   "metadata": {},
   "source": [
    "## Matrix multiplication using numpy"
   ]
  },
  {
   "cell_type": "code",
   "execution_count": 21,
   "id": "b022b048",
   "metadata": {
    "scrolled": true
   },
   "outputs": [
    {
     "name": "stdout",
     "output_type": "stream",
     "text": [
      "Multiplied matrix is : \n",
      "[[ 38  44  50  56]\n",
      " [ 83  98 113 128]]\n",
      "TIme taken is : 0.0007243156\n"
     ]
    }
   ],
   "source": [
    "import time as T\n",
    "import numpy as np\n",
    "A=[[1,2,3],[4,5,6]]\n",
    "B=[[1,2,3,4],[5,6,7,8],[9,10,11,12]]\n",
    "\n",
    "starting=T.time()\n",
    "ANS=np.dot(A,B)\n",
    "print(\"Multiplied matrix is : \")\n",
    "print(ANS)\n",
    "ending=T.time()\n",
    "taken=ending-starting\n",
    "print(\"TIme taken is : {:.10f}\".format(taken))\n",
    "\n"
   ]
  },
  {
   "cell_type": "markdown",
   "id": "d5b7bb12",
   "metadata": {},
   "source": [
    "->Here we can see that time taken for matrix multiplication using NUMPY(0.0007243156) is lesser than the same by normal method(0.0021543503) .. So we can say that NUMPY is faster than Normal matrix Multipliacation mathod \n",
    "->This is happening because NUMPY uses vectorization means entire vector will be processed at once instead of processing each and eevery single elements "
   ]
  }
 ],
 "metadata": {
  "kernelspec": {
   "display_name": "Python 3 (ipykernel)",
   "language": "python",
   "name": "python3"
  },
  "language_info": {
   "codemirror_mode": {
    "name": "ipython",
    "version": 3
   },
   "file_extension": ".py",
   "mimetype": "text/x-python",
   "name": "python",
   "nbconvert_exporter": "python",
   "pygments_lexer": "ipython3",
   "version": "3.9.12"
  }
 },
 "nbformat": 4,
 "nbformat_minor": 5
}
