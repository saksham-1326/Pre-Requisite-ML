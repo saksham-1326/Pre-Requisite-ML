{
 "cells": [
  {
   "cell_type": "markdown",
   "id": "caf69e3e",
   "metadata": {},
   "source": [
    "### Question 12"
   ]
  },
  {
   "cell_type": "markdown",
   "id": "9dfa0b24",
   "metadata": {},
   "source": [
    "Question->Write a small piece of code to explain broadcasting in numpy."
   ]
  },
  {
   "cell_type": "markdown",
   "id": "73065033",
   "metadata": {},
   "source": [
    "Broadcasting is basically technique of numpy to try doing operation on matrices by stratching them (by following some rules) which can not be done by simple method "
   ]
  },
  {
   "cell_type": "markdown",
   "id": "592babaa",
   "metadata": {},
   "source": [
    "For example I am considering two matrices A=[1,2,3] and B=[[1],[2],[3]] which have shape (3,) and (1,3) \n",
    "-> Normal method of addition of matrices can not add two matrices having different dimentions.But by using broadcasting of numpy, this addition can be done.\n",
    "-> For following example, matrix 'A' will be streatched and updated value will be [[1,2,3],[1,2,3],[1,2,3]]\n",
    "and 'B' will be streatched and updated value will be [[1,1,1],[2,2,2],[3,3,3]]\n",
    "-> Then addition will be performed\n",
    "->Final Result will be [[2,3,4],[3,4,5],[4,5,6]]\n",
    "                           "
   ]
  },
  {
   "cell_type": "code",
   "execution_count": 2,
   "id": "6cc57e48",
   "metadata": {},
   "outputs": [
    {
     "data": {
      "text/plain": [
       "array([[2, 3, 4],\n",
       "       [3, 4, 5],\n",
       "       [4, 5, 6]])"
      ]
     },
     "execution_count": 2,
     "metadata": {},
     "output_type": "execute_result"
    }
   ],
   "source": [
    "import numpy as np\n",
    "A=np.array([[1,2,3]])\n",
    "B=np.array([[1],[2],[3]])\n",
    "A+B"
   ]
  },
  {
   "cell_type": "code",
   "execution_count": null,
   "id": "2e39b6f6",
   "metadata": {},
   "outputs": [],
   "source": []
  }
 ],
 "metadata": {
  "kernelspec": {
   "display_name": "Python 3 (ipykernel)",
   "language": "python",
   "name": "python3"
  },
  "language_info": {
   "codemirror_mode": {
    "name": "ipython",
    "version": 3
   },
   "file_extension": ".py",
   "mimetype": "text/x-python",
   "name": "python",
   "nbconvert_exporter": "python",
   "pygments_lexer": "ipython3",
   "version": "3.9.12"
  }
 },
 "nbformat": 4,
 "nbformat_minor": 5
}
