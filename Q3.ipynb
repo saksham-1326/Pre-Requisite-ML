{
 "cells": [
  {
   "cell_type": "markdown",
   "id": "c6988554",
   "metadata": {},
   "source": [
    "##  Question-3"
   ]
  },
  {
   "cell_type": "markdown",
   "id": "82f165af",
   "metadata": {},
   "source": [
    "Finding the highest element in a list requires one pass of the array. Finding the second highest element requires 2 passes of the array. Using this method, what is the time complexity of finding the median of the array? Can you suggest a better method? Can you implement both these methods in Python and compare against numpy.median routine in terms of time? "
   ]
  },
  {
   "cell_type": "markdown",
   "id": "8d28b834",
   "metadata": {},
   "source": [
    "### Method_1-> 1 pass, 2 pass....."
   ]
  },
  {
   "cell_type": "markdown",
   "id": "77c19e26",
   "metadata": {},
   "source": [
    "Approach : Making copy of array so original array will not get altered. Then finding heighest in copy array than remove that elment from copy array. And following same process n/2 times(Because median of array is center value of sorted array)\n",
    "->Time complexity will be O(n2) because we are going through 'n' elements 'n/2' times \n",
    "->So O(n) * O(n/2)=O(n^2/2) = O(n^2)"
   ]
  },
  {
   "cell_type": "code",
   "execution_count": 33,
   "id": "21ef6538",
   "metadata": {},
   "outputs": [
    {
     "name": "stdout",
     "output_type": "stream",
     "text": [
      "Median is : 65\n",
      "Time taken is : 0.0020051003\n"
     ]
    }
   ],
   "source": [
    "import time as T\n",
    "starting=T.time()\n",
    "array=[10,20,2,4,322,54,65,43,312,544,5,645,76,543,524,32,56,78,87,10,20,2,4,322,54,65,43,312,544,5,645,76,543,524,32,56,78,87,10,20,2,4,322,54,65,43,312,544,5,645,76,543,524,32,56,78,87,10,20,2,4,322,54,65,43,312,544,5,645,76,543,524,32,56,78,87,10,20,2,4,322,54,65,43,312,544,5,645,76,543,524,32,56,78,87,10,20,2,4,322,54,65,43,312,544,5,645,76,543,524,32,56,78,87,10,20,2,4,322,54,65,43,312,544,5,645,76,543,524,32,56,78,87,10,20,2,4,322,54,65,43,312,544,5,645,76,543,524,32,56,78,87,10,20,2,4,322,54,65,43,312,544,5,645,76,543,524,32,56,78,87,10,20,2,4,322,54,65,43,312,544,5,645,76,543,524,32,56,78,87,10,20,2,4,322,54,65,43,312,544,5,645,76,543,524,32,56,78,87,10,20,2,4,322,54,65,43,312,544,5,645,76,543,524,32,56,78,87]\n",
    "copy_array=array\n",
    "size=len(array)\n",
    "max_value=-1;\n",
    "for i in range(size//2+1):\n",
    "    max_value=max(copy_array)\n",
    "    copy_array.remove(max_value)\n",
    "print(\"Median is : {}\".format(max_value))\n",
    "ending=T.time()\n",
    "taken=ending-starting\n",
    "print(\"Time taken is : {:.10f}\".format(taken))"
   ]
  },
  {
   "cell_type": "markdown",
   "id": "39104a93",
   "metadata": {},
   "source": [
    "### Method_2->Sorting Method"
   ]
  },
  {
   "cell_type": "code",
   "execution_count": 37,
   "id": "bfae17e7",
   "metadata": {
    "scrolled": true
   },
   "outputs": [
    {
     "name": "stdout",
     "output_type": "stream",
     "text": [
      "Median is : 65\n",
      "Time taken is : 0.0023031235\n"
     ]
    }
   ],
   "source": [
    "import time as T\n",
    "starting=T.time()\n",
    "array=[10,20,2,4,322,54,65,43,312,544,5,645,76,543,524,32,56,78,87,10,20,2,4,322,54,65,43,312,544,5,645,76,543,524,32,56,78,87,10,20,2,4,322,54,65,43,312,544,5,645,76,543,524,32,56,78,87,10,20,2,4,322,54,65,43,312,544,5,645,76,543,524,32,56,78,87,10,20,2,4,322,54,65,43,312,544,5,645,76,543,524,32,56,78,87,10,20,2,4,322,54,65,43,312,544,5,645,76,543,524,32,56,78,87,10,20,2,4,322,54,65,43,312,544,5,645,76,543,524,32,56,78,87,10,20,2,4,322,54,65,43,312,544,5,645,76,543,524,32,56,78,87,10,20,2,4,322,54,65,43,312,544,5,645,76,543,524,32,56,78,87,10,20,2,4,322,54,65,43,312,544,5,645,76,543,524,32,56,78,87,10,20,2,4,322,54,65,43,312,544,5,645,76,543,524,32,56,78,87,10,20,2,4,322,54,65,43,312,544,5,645,76,543,524,32,56,78,87]\n",
    "sorted_array=sorted(array)\n",
    "size=len(array)\n",
    "median=sorted_array[size//2]\n",
    "print(\"Median is : {}\".format(median))\n",
    "ending=T.time()\n",
    "taken=ending-starting\n",
    "print(\"Time taken is : {:.10f}\".format(taken))"
   ]
  },
  {
   "cell_type": "markdown",
   "id": "76cace40",
   "metadata": {},
   "source": [
    "### Method_3->NUMpy method"
   ]
  },
  {
   "cell_type": "markdown",
   "id": "c058df7c",
   "metadata": {},
   "source": [
    "Time Complexity->\n",
    "Time->O(nlog(n)) for sorting and O(1) for finding median...So, Final Time Complexity=O(nlogn)"
   ]
  },
  {
   "cell_type": "code",
   "execution_count": 35,
   "id": "bb1123a4",
   "metadata": {},
   "outputs": [
    {
     "name": "stdout",
     "output_type": "stream",
     "text": [
      "Median is : 65.0\n",
      "Time taken is : 0.0010004044\n"
     ]
    }
   ],
   "source": [
    "import numpy as np\n",
    "import time as T\n",
    "starting=T.time()\n",
    "array=[10,20,2,4,322,54,65,43,312,544,5,645,76,543,524,32,56,78,87,10,20,2,4,322,54,65,43,312,544,5,645,76,543,524,32,56,78,87,10,20,2,4,322,54,65,43,312,544,5,645,76,543,524,32,56,78,87,10,20,2,4,322,54,65,43,312,544,5,645,76,543,524,32,56,78,87,10,20,2,4,322,54,65,43,312,544,5,645,76,543,524,32,56,78,87,10,20,2,4,322,54,65,43,312,544,5,645,76,543,524,32,56,78,87,10,20,2,4,322,54,65,43,312,544,5,645,76,543,524,32,56,78,87,10,20,2,4,322,54,65,43,312,544,5,645,76,543,524,32,56,78,87,10,20,2,4,322,54,65,43,312,544,5,645,76,543,524,32,56,78,87,10,20,2,4,322,54,65,43,312,544,5,645,76,543,524,32,56,78,87,10,20,2,4,322,54,65,43,312,544,5,645,76,543,524,32,56,78,87,10,20,2,4,322,54,65,43,312,544,5,645,76,543,524,32,56,78,87]\n",
    "median=np.median(array)\n",
    "print(\"Median is : {}\".format(median))\n",
    "ending=T.time()\n",
    "taken=ending-starting\n",
    "print(\"Time taken is : {:.10f}\".format(taken))"
   ]
  },
  {
   "cell_type": "markdown",
   "id": "35fd11cd",
   "metadata": {},
   "source": [
    "### Here 3rd method-NUMPy for finding median takes the least time "
   ]
  }
 ],
 "metadata": {
  "kernelspec": {
   "display_name": "Python 3 (ipykernel)",
   "language": "python",
   "name": "python3"
  },
  "language_info": {
   "codemirror_mode": {
    "name": "ipython",
    "version": 3
   },
   "file_extension": ".py",
   "mimetype": "text/x-python",
   "name": "python",
   "nbconvert_exporter": "python",
   "pygments_lexer": "ipython3",
   "version": "3.9.12"
  }
 },
 "nbformat": 4,
 "nbformat_minor": 5
}
