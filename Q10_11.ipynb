{
 "cells": [
  {
   "cell_type": "markdown",
   "id": "76e0e16c",
   "metadata": {},
   "source": [
    "Q-10 : Using numpy generate a matrix of size 20X5 containing random numbers drawn uniformly from the range of 1 to 2. Using Pandas create a dataframe out of this matrix. Name the columns of the dataframe as “a”, “b”, “c”, “d”, “e”. Find the column with the highest standard deviation. Find the row with the lowest mean.\n",
    "\n",
    "Q-11 : Add a new column to the dataframe called “f” which is the sum of the columns “a”, “b”, “c”, “d”, “e”. Create another column called “g”. The value in the column “g” should be “LT8” if the value in the column “f” is less than 8 and “GT8” otherwise"
   ]
  },
  {
   "cell_type": "code",
   "execution_count": 5,
   "id": "3e747d48",
   "metadata": {},
   "outputs": [
    {
     "name": "stdout",
     "output_type": "stream",
     "text": [
      "Matrix is \n",
      "           a         b         c         d         e\n",
      "0   1.915011  1.240929  1.132526  1.455784  1.545416\n",
      "1   1.627891  1.061434  1.603952  1.221312  1.536425\n",
      "2   1.117637  1.547031  1.071823  1.505076  1.280738\n",
      "3   1.302625  1.366753  1.485993  1.620000  1.397395\n",
      "4   1.012657  1.738121  1.640048  1.763569  1.380836\n",
      "5   1.544768  1.330434  1.310756  1.952034  1.861645\n",
      "6   1.254624  1.211805  1.709013  1.728676  1.423301\n",
      "7   1.113363  1.350379  1.460881  1.306025  1.442597\n",
      "8   1.144489  1.136563  1.217272  1.024699  1.789213\n",
      "9   1.821909  1.087402  1.786339  1.425099  1.982165\n",
      "10  1.391512  1.842145  1.079074  1.503078  1.149585\n",
      "11  1.287332  1.682948  1.800158  1.696834  1.575295\n",
      "12  1.914558  1.908913  1.780751  1.597846  1.085744\n",
      "13  1.630737  1.489335  1.618577  1.949502  1.218612\n",
      "14  1.199769  1.585587  1.679279  1.013894  1.909332\n",
      "15  1.203400  1.416362  1.786051  1.156814  1.549566\n",
      "16  1.544899  1.379840  1.565299  1.635894  1.045861\n",
      "17  1.295495  1.028929  1.163395  1.682507  1.992204\n",
      "18  1.419770  1.605321  1.712047  1.020398  1.164233\n",
      "19  1.117742  1.803668  1.932462  1.927819  1.732093\n",
      "Column having Maximum Standard Deviation is d\n",
      "Row with minimum mean is 8\n"
     ]
    }
   ],
   "source": [
    "import pandas as pd\n",
    "import numpy as np\n",
    "matrix=np.random.uniform(low=1,high=2,size=(20,5))\n",
    "df=pd.DataFrame(matrix,columns=['a','b','c','d','e'])\n",
    "max_std_dev=df.std().idxmax()\n",
    "min_mean=df.mean(axis=1).idxmin()\n",
    "print(\"Matrix is \")\n",
    "print(df)\n",
    "print(\"Column having Maximum Standard Deviation is {}\".format(max_std_dev))\n",
    "print(\"Row with minimum mean is {}\".format(min_mean))"
   ]
  },
  {
   "cell_type": "code",
   "execution_count": 10,
   "id": "19e61df7",
   "metadata": {},
   "outputs": [
    {
     "name": "stdout",
     "output_type": "stream",
     "text": [
      "           a         b         c         d         e         h\n",
      "0   1.915011  1.240929  1.132526  1.455784  1.545416  7.289666\n",
      "1   1.627891  1.061434  1.603952  1.221312  1.536425  7.051014\n",
      "2   1.117637  1.547031  1.071823  1.505076  1.280738  6.522304\n",
      "3   1.302625  1.366753  1.485993  1.620000  1.397395  7.172766\n",
      "4   1.012657  1.738121  1.640048  1.763569  1.380836  7.535231\n",
      "5   1.544768  1.330434  1.310756  1.952034  1.861645  7.999637\n",
      "6   1.254624  1.211805  1.709013  1.728676  1.423301  7.327419\n",
      "7   1.113363  1.350379  1.460881  1.306025  1.442597  6.673244\n",
      "8   1.144489  1.136563  1.217272  1.024699  1.789213  6.312236\n",
      "9   1.821909  1.087402  1.786339  1.425099  1.982165  8.102914\n",
      "10  1.391512  1.842145  1.079074  1.503078  1.149585  6.965394\n",
      "11  1.287332  1.682948  1.800158  1.696834  1.575295  8.042567\n",
      "12  1.914558  1.908913  1.780751  1.597846  1.085744  8.287812\n",
      "13  1.630737  1.489335  1.618577  1.949502  1.218612  7.906764\n",
      "14  1.199769  1.585587  1.679279  1.013894  1.909332  7.387860\n",
      "15  1.203400  1.416362  1.786051  1.156814  1.549566  7.112193\n",
      "16  1.544899  1.379840  1.565299  1.635894  1.045861  7.171793\n",
      "17  1.295495  1.028929  1.163395  1.682507  1.992204  7.162530\n",
      "18  1.419770  1.605321  1.712047  1.020398  1.164233  6.921768\n",
      "19  1.117742  1.803668  1.932462  1.927819  1.732093  8.513783\n"
     ]
    }
   ],
   "source": [
    "df['h']=df[['a','b','c','d','e']].sum(axis=1)\n",
    "print(df)"
   ]
  },
  {
   "cell_type": "code",
   "execution_count": 11,
   "id": "4691929e",
   "metadata": {},
   "outputs": [
    {
     "name": "stdout",
     "output_type": "stream",
     "text": [
      "           a         b         c         d         e         h    g\n",
      "0   1.915011  1.240929  1.132526  1.455784  1.545416  7.289666  LT8\n",
      "1   1.627891  1.061434  1.603952  1.221312  1.536425  7.051014  LT8\n",
      "2   1.117637  1.547031  1.071823  1.505076  1.280738  6.522304  LT8\n",
      "3   1.302625  1.366753  1.485993  1.620000  1.397395  7.172766  LT8\n",
      "4   1.012657  1.738121  1.640048  1.763569  1.380836  7.535231  LT8\n",
      "5   1.544768  1.330434  1.310756  1.952034  1.861645  7.999637  LT8\n",
      "6   1.254624  1.211805  1.709013  1.728676  1.423301  7.327419  LT8\n",
      "7   1.113363  1.350379  1.460881  1.306025  1.442597  6.673244  LT8\n",
      "8   1.144489  1.136563  1.217272  1.024699  1.789213  6.312236  LT8\n",
      "9   1.821909  1.087402  1.786339  1.425099  1.982165  8.102914  GT8\n",
      "10  1.391512  1.842145  1.079074  1.503078  1.149585  6.965394  LT8\n",
      "11  1.287332  1.682948  1.800158  1.696834  1.575295  8.042567  GT8\n",
      "12  1.914558  1.908913  1.780751  1.597846  1.085744  8.287812  GT8\n",
      "13  1.630737  1.489335  1.618577  1.949502  1.218612  7.906764  LT8\n",
      "14  1.199769  1.585587  1.679279  1.013894  1.909332  7.387860  LT8\n",
      "15  1.203400  1.416362  1.786051  1.156814  1.549566  7.112193  LT8\n",
      "16  1.544899  1.379840  1.565299  1.635894  1.045861  7.171793  LT8\n",
      "17  1.295495  1.028929  1.163395  1.682507  1.992204  7.162530  LT8\n",
      "18  1.419770  1.605321  1.712047  1.020398  1.164233  6.921768  LT8\n",
      "19  1.117742  1.803668  1.932462  1.927819  1.732093  8.513783  GT8\n"
     ]
    }
   ],
   "source": [
    "df['g']=df['h'].apply(lambda x:\"LT8\" if x<8 else \"GT8\")\n",
    "print(df)"
   ]
  },
  {
   "cell_type": "code",
   "execution_count": 15,
   "id": "05c7491a",
   "metadata": {},
   "outputs": [
    {
     "name": "stdout",
     "output_type": "stream",
     "text": [
      "Count of columns g==GT8 is 4\n"
     ]
    }
   ],
   "source": [
    "'''Count Columns with df[g]==\"GT8\"'''\n",
    "count=df[df['g']==\"GT8\"].shape[0]\n",
    "print(\"Count of columns g==GT8 is {}\".format(count))"
   ]
  },
  {
   "cell_type": "code",
   "execution_count": 18,
   "id": "b077d1dc",
   "metadata": {},
   "outputs": [
    {
     "name": "stdout",
     "output_type": "stream",
     "text": [
      "Standard Deviation for g==gt8 is 0.21211152813888698\n",
      "Standard Deviation for g==lt8 is 0.4450806885004593\n"
     ]
    }
   ],
   "source": [
    "'''Find Standard Deviation for each category'''\n",
    "std_gt8=df[df['g']==\"GT8\"]['h'].std()\n",
    "std_lt8=df[df['g']==\"LT8\"]['h'].std()\n",
    "print(\"Standard Deviation for g==gt8 is {}\".format(std_gt8))\n",
    "print(\"Standard Deviation for g==lt8 is {}\".format(std_lt8))"
   ]
  },
  {
   "cell_type": "code",
   "execution_count": null,
   "id": "0247ad48",
   "metadata": {},
   "outputs": [],
   "source": []
  }
 ],
 "metadata": {
  "kernelspec": {
   "display_name": "Python 3 (ipykernel)",
   "language": "python",
   "name": "python3"
  },
  "language_info": {
   "codemirror_mode": {
    "name": "ipython",
    "version": 3
   },
   "file_extension": ".py",
   "mimetype": "text/x-python",
   "name": "python",
   "nbconvert_exporter": "python",
   "pygments_lexer": "ipython3",
   "version": "3.9.12"
  }
 },
 "nbformat": 4,
 "nbformat_minor": 5
}
