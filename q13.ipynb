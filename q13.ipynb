{
 "cells": [
  {
   "cell_type": "markdown",
   "id": "3bface09",
   "metadata": {},
   "source": [
    "### Question 13"
   ]
  },
  {
   "cell_type": "markdown",
   "id": "c0ef3d74",
   "metadata": {},
   "source": [
    "Question-Write a function to compute the argmin of a numpy array. The function should take a numpy array as input and return the index of the minimum element. You can use the np.argmin function to verify your solution."
   ]
  },
  {
   "cell_type": "code",
   "execution_count": 2,
   "id": "8e24d3f7",
   "metadata": {},
   "outputs": [
    {
     "name": "stdout",
     "output_type": "stream",
     "text": [
      "Index of minimum value in array is 0 and value is 1\n"
     ]
    }
   ],
   "source": [
    "import numpy as np\n",
    "def minimum(arr):\n",
    "    min=-1\n",
    "    min_val=100000\n",
    "    for i in range(0,len(arr)):\n",
    "        if min_val>arr[i]:\n",
    "            min_val=arr[i]\n",
    "            min=i\n",
    "    return min\n",
    "array=[1,2,3,4,5,6]\n",
    "index=minimum(array)\n",
    "print(\"Index of minimum value in array is {0} and value is {1}\".format(index,array[index]))"
   ]
  },
  {
   "cell_type": "code",
   "execution_count": null,
   "id": "7985c64b",
   "metadata": {},
   "outputs": [],
   "source": []
  }
 ],
 "metadata": {
  "kernelspec": {
   "display_name": "Python 3 (ipykernel)",
   "language": "python",
   "name": "python3"
  },
  "language_info": {
   "codemirror_mode": {
    "name": "ipython",
    "version": 3
   },
   "file_extension": ".py",
   "mimetype": "text/x-python",
   "name": "python",
   "nbconvert_exporter": "python",
   "pygments_lexer": "ipython3",
   "version": "3.9.12"
  }
 },
 "nbformat": 4,
 "nbformat_minor": 5
}
