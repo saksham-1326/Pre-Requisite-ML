{
 "cells": [
  {
   "cell_type": "code",
   "execution_count": 4,
   "id": "88ed1572",
   "metadata": {},
   "outputs": [
    {
     "name": "stdout",
     "output_type": "stream",
     "text": [
      "8.32241844694512\n",
      "11.0976518176948\n"
     ]
    }
   ],
   "source": [
    "import sympy as sp\n",
    "x,y= sp.symbols('x y')\n",
    "f=(x**2 * y) + (y**3 * sp.sin(x))\n",
    "df_dx=sp.diff(f,x)\n",
    "df_dy=sp.diff(f,y)\n",
    "xval=1.0\n",
    "yval=2.0\n",
    "grad_x=df_dx.evalf(subs={x:xval , y:yval})\n",
    "grad_y=df_dy.evalf(subs={x:xval , y:yval})\n",
    "print(grad_x)\n",
    "print(grad_y)"
   ]
  }
 ],
 "metadata": {
  "kernelspec": {
   "display_name": "Python 3 (ipykernel)",
   "language": "python",
   "name": "python3"
  },
  "language_info": {
   "codemirror_mode": {
    "name": "ipython",
    "version": 3
   },
   "file_extension": ".py",
   "mimetype": "text/x-python",
   "name": "python",
   "nbconvert_exporter": "python",
   "pygments_lexer": "ipython3",
   "version": "3.9.12"
  }
 },
 "nbformat": 4,
 "nbformat_minor": 5
}
